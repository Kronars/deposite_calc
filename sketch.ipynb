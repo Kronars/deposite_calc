{
 "cells": [
  {
   "attachments": {},
   "cell_type": "markdown",
   "metadata": {},
   "source": [
    "ТЗ, отработка алгоритмов"
   ]
  },
  {
   "attachments": {},
   "cell_type": "markdown",
   "metadata": {},
   "source": [
    "# Вводные"
   ]
  },
  {
   "attachments": {},
   "cell_type": "markdown",
   "metadata": {},
   "source": [
    "```json\n",
    "{\n",
    "    \"amount\":10000,\n",
    "    \"periods\":7,\n",
    "    \"rate\":6,\n",
    "    \"date\":\"31.01.2021\"\n",
    "}\n",
    "```"
   ]
  },
  {
   "attachments": {},
   "cell_type": "markdown",
   "metadata": {},
   "source": [
    "Рассчитать в соответсвтии с формулой: \n",
    "\n",
    "> =ЕСЛИ(B8>$C$3;\"\";$C$2*(1+$C$4/12/100))\n",
    "\n",
    "\\>>>\n",
    "\n",
    "Повторить `periods` раз:\n",
    "\n",
    "* Первая итерация:  \n",
    "`amount` * (1 + `rate` / 12 / 100)  \n",
    "\n",
    "* Последующие итерации:  \n",
    "`прошлый результат` * (1 + `rate` / 12 / 100)"
   ]
  },
  {
   "cell_type": "code",
   "execution_count": 2,
   "metadata": {},
   "outputs": [],
   "source": [
    "import json\n",
    "import datetime\n",
    "\n",
    "req_json = json.loads('''{\n",
    "    \"amount\":10000,\n",
    "    \"periods\":7,\n",
    "    \"rate\":6,\n",
    "    \"date\":\"31.01.2021\"\n",
    "}''')\n",
    "correct = [10050.00, 10100.25, 10150.75, 10201.51, 10252.51, 10303.78, 10355.29]"
   ]
  },
  {
   "attachments": {},
   "cell_type": "markdown",
   "metadata": {},
   "source": [
    "Алгоритм расчёта дат начисления процентов - последний день месяца"
   ]
  },
  {
   "cell_type": "code",
   "execution_count": 3,
   "metadata": {},
   "outputs": [
    {
     "data": {
      "text/plain": [
       "['28.02.2021',\n",
       " '31.03.2021',\n",
       " '30.04.2021',\n",
       " '31.05.2021',\n",
       " '30.06.2021',\n",
       " '31.07.2021',\n",
       " '31.08.2021']"
      ]
     },
     "execution_count": 3,
     "metadata": {},
     "output_type": "execute_result"
    }
   ],
   "source": [
    "from calendar import Calendar\n",
    "\n",
    "str_to_date = lambda date: datetime.datetime.strptime(date, '%d.%m.%Y').date()\n",
    "start_date = str_to_date(req_json['date'])\n",
    "period = req_json['periods']\n",
    "\n",
    "calendar = Calendar(0)\n",
    "accrual = []\n",
    "\n",
    "for month_shift in range(1, period + 1):\n",
    "\n",
    "    year = start_date.year\n",
    "    month = (start_date.month + month_shift )% 12\n",
    "\n",
    "    if month < start_date.month: # Если произошло переполнение месяца\n",
    "        year += 1\n",
    "\n",
    "    month_days = calendar.monthdayscalendar(year=year, month=month)\n",
    "    last_day = max(month_days[-1])\n",
    "\n",
    "    accrual.append(\n",
    "        datetime.date(year, month, last_day).strftime('%d.%m.%Y')\n",
    "    )\n",
    "\n",
    "accrual"
   ]
  },
  {
   "attachments": {},
   "cell_type": "markdown",
   "metadata": {},
   "source": [
    "Основной алгоритм"
   ]
  },
  {
   "cell_type": "code",
   "execution_count": 4,
   "metadata": {},
   "outputs": [
    {
     "data": {
      "text/plain": [
       "[10050.0, 10100.25, 10150.75, 10201.5, 10252.51, 10303.77, 10355.29]"
      ]
     },
     "execution_count": 4,
     "metadata": {},
     "output_type": "execute_result"
    }
   ],
   "source": [
    "from numpy import around\n",
    "# round = around  # Проверял меняется ли остаток от метода округления плавучей точки\n",
    "\n",
    "res = []\n",
    "\n",
    "right_const = 1 + req_json['rate'] / 12 / 100\n",
    "\n",
    "res = [round(req_json['amount'] * right_const, 2)]\n",
    "\n",
    "for ind in range(req_json['periods'] - 1):\n",
    "    summ = res[ind] * right_const\n",
    "    res.append(\n",
    "        round(summ, 2)\n",
    "    )\n",
    "res"
   ]
  },
  {
   "attachments": {},
   "cell_type": "markdown",
   "metadata": {},
   "source": [
    "Из за разных алгоритмов округления в экселе и питоне, теряется 2 копейки)))  \n",
    "Или это особенности расчётов с плавающей точкой"
   ]
  },
  {
   "cell_type": "code",
   "execution_count": 5,
   "metadata": {},
   "outputs": [
    {
     "data": {
      "text/plain": [
       "(False, 0.020000000000436557)"
      ]
     },
     "execution_count": 5,
     "metadata": {},
     "output_type": "execute_result"
    }
   ],
   "source": [
    "set(correct) == set(res), sum([abs(i - j) for i, j in zip(res, correct)])"
   ]
  },
  {
   "cell_type": "code",
   "execution_count": 33,
   "metadata": {},
   "outputs": [
    {
     "data": {
      "text/plain": [
       "{'31.01.2022': 10050.0,\n",
       " '28.02.2022': 10100.25,\n",
       " '31.03.2022': 10150.75,\n",
       " '30.04.2022': 10201.5,\n",
       " '31.05.2022': 10252.51,\n",
       " '30.06.2022': 10303.77,\n",
       " '31.07.2022': 10355.29}"
      ]
     },
     "execution_count": 33,
     "metadata": {},
     "output_type": "execute_result"
    }
   ],
   "source": [
    "dict(zip(accrual, res))"
   ]
  },
  {
   "cell_type": "code",
   "execution_count": 58,
   "metadata": {},
   "outputs": [
    {
     "data": {
      "text/plain": [
       "{'c'}"
      ]
     },
     "execution_count": 58,
     "metadata": {},
     "output_type": "execute_result"
    }
   ],
   "source": [
    "ab = {'a':-1, 'b': 0}\n",
    "a = {'a': 1, 'b':2}\n",
    "b = {'a': 3, 'b': 4, 'c': 5}\n",
    "\n",
    "# inter = set(a.keys()) & set(b.keys())\n",
    "# b = filter(lambda x: x[0] in ab, b.items())\n",
    "# dict(b)\n",
    "set(a) ^ set(b)"
   ]
  },
  {
   "cell_type": "code",
   "execution_count": 12,
   "metadata": {},
   "outputs": [
    {
     "data": {
      "text/plain": [
       "(False, True)"
      ]
     },
     "execution_count": 12,
     "metadata": {},
     "output_type": "execute_result"
    }
   ],
   "source": [
    "from collections import OrderedDict\n",
    "\n",
    "a = OrderedDict({'1': 1, '2': 2})\n",
    "b = OrderedDict({'2': 2, '1': 1})\n",
    "c = OrderedDict({'1': 1, '2': 2})\n",
    "\n",
    "a == b, a == c"
   ]
  }
 ],
 "metadata": {
  "kernelspec": {
   "display_name": "base",
   "language": "python",
   "name": "python3"
  },
  "language_info": {
   "codemirror_mode": {
    "name": "ipython",
    "version": 3
   },
   "file_extension": ".py",
   "mimetype": "text/x-python",
   "name": "python",
   "nbconvert_exporter": "python",
   "pygments_lexer": "ipython3",
   "version": "3.9.7"
  },
  "orig_nbformat": 4,
  "vscode": {
   "interpreter": {
    "hash": "8a954dc36cef0888b0ecab285055513b2b516d063006014f9987f337f30cce1c"
   }
  }
 },
 "nbformat": 4,
 "nbformat_minor": 2
}
